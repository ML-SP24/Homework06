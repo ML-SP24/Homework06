{
 "cells": [
  {
   "cell_type": "markdown",
   "metadata": {
    "id": "QshK8s21WBrf"
   },
   "source": [
    "# Homework06\n",
    "\n",
    "Exercises to practice pandas, data analysis and regression\n",
    "\n",
    "## Goals\n",
    "\n",
    "- Understand the effects of pre-processing data\n",
    "- Get familiar with the ML flow: encode -> normalize -> train -> evaluate\n",
    "- Understand the difference between regression and classification tasks\n",
    "- Build an intuition for different regression models"
   ]
  },
  {
   "cell_type": "markdown",
   "metadata": {
    "id": "7Hf8SXUwWOho"
   },
   "source": [
    "### Setup\n",
    "\n",
    "Run the following 2 cells to import all necessary libraries and helpers for this homework."
   ]
  },
  {
   "cell_type": "code",
   "execution_count": null,
   "metadata": {},
   "outputs": [],
   "source": [
    "!wget -q https://github.com/PSAM-5020-2025S-A/5020-utils/raw/main/src/data_utils.py"
   ]
  },
  {
   "cell_type": "code",
   "execution_count": null,
   "metadata": {},
   "outputs": [],
   "source": [
    "import matplotlib.pyplot as plt\n",
    "import pandas as pd\n",
    "\n",
    "from sklearn.preprocessing import OrdinalEncoder\n",
    "\n",
    "from data_utils import object_from_json_url\n",
    "from data_utils import StandardScaler\n",
    "from data_utils import LinearRegression, SGDRegressor\n",
    "from data_utils import regression_error"
   ]
  },
  {
   "cell_type": "markdown",
   "metadata": {},
   "source": [
    "### Load Dataset\n",
    "\n",
    "Let's load up the full [ANSUR](https://www.openlab.psu.edu/ansur2/) dataset that we looked at briefly in [Week 02](https://github.com/DM-GY-9103-2024F-H/WK02).\n",
    "\n",
    "This is the dataset that has anthropometric information about U.S. Army personnel."
   ]
  },
  {
   "cell_type": "code",
   "execution_count": null,
   "metadata": {},
   "outputs": [],
   "source": [
    "# Load Dataset\n",
    "ANSUR_FILE = \"https://raw.githubusercontent.com/PSAM-5020-2025S-A/5020-utils/main/datasets/json/ansur.json\"\n",
    "ansur_data = object_from_json_url(ANSUR_FILE)\n",
    "\n",
    "# Look at first 2 records\n",
    "ansur_data[:2]"
   ]
  },
  {
   "cell_type": "markdown",
   "metadata": {},
   "source": [
    "#### Nested data\n",
    "\n",
    "This is that *nested* dataset from Week 02.\n",
    "\n",
    "# 🤔\n",
    "\n",
    "Let's load it into a `DataFrame` to see what happens."
   ]
  },
  {
   "cell_type": "code",
   "execution_count": null,
   "metadata": {},
   "outputs": [],
   "source": [
    "# Read into DataFrame\n",
    "ansur_df = pd.DataFrame.from_records(ansur_data)\n",
    "ansur_df.head()"
   ]
  },
  {
   "cell_type": "markdown",
   "metadata": {},
   "source": [
    "\n",
    "# 😓🙄\n",
    "\n",
    "That didn't work too well. We ended up with objects in our columns.\n",
    "\n",
    "Luckily, our `DataFrame` library has a function called [`json_normalize()`](https://pandas.pydata.org/pandas-docs/stable/reference/api/pandas.json_normalize.html) that can help."
   ]
  },
  {
   "cell_type": "code",
   "execution_count": null,
   "metadata": {},
   "outputs": [],
   "source": [
    "# Read into DataFrame\n",
    "ansur_df = pd.json_normalize(ansur_data)\n",
    "ansur_df.head()"
   ]
  },
  {
   "cell_type": "markdown",
   "metadata": {},
   "source": [
    "Much better. `DataFrames` are magic.\n",
    "\n",
    "#### Data Exploration\n",
    "\n",
    "Before we start creating models, let's do a little bit of data analysis and get a feeling for the shapes, distributions and relationships of our data.\n",
    "\n",
    "1. Print `min`, `max` and `average` values for all of the features.\n",
    "2. Print `covariance` tables for `age`, `ear.length` and `head.circumference`.\n",
    "3. Plot `age`, `ear.length` and `head.circumference` versus the $1$ *feature* that is most correlated to each of them.\n",
    "\n",
    "Don't forget to *encode* and *normalize* the data."
   ]
  },
  {
   "cell_type": "code",
   "execution_count": null,
   "metadata": {
    "tags": [
     "work_cell"
    ]
   },
   "outputs": [],
   "source": [
    "# Work on Data Exploration here\n",
    "\n",
    "### Encode non-numerical features\n",
    "gender = ansur_df[\"gender\"].unique()\n",
    "print(gender)\n",
    "gender_order = [\"M\", \"F\"]\n",
    "#Male = 0 and Female = 1 \n",
    "\n",
    "#here I specified data type to have an integer not a decimal, which is returned by defualt and not ideal for a category \n",
    "#Thanks to ChatGpt reviewing my code \n",
    "ansur_encoder = OrdinalEncoder(categories=[gender_order], dtype=int)\n",
    "print(ansur_encoder)\n",
    "\n",
    "\n",
    "ansur_df[\"gender\"] = ansur_encoder.fit_transform(ansur_df[[\"gender\"]])\n"
   ]
  },
  {
   "cell_type": "code",
   "execution_count": null,
   "metadata": {},
   "outputs": [],
   "source": [
    "ansur_df.head()\n",
    "## 1. Print min, max, avg\n",
    "for feature in ansur_df:\n",
    "    print(feature)\n",
    "    print(\"\\t min:\", ansur_df[feature].min())\n",
    "    print(\"\\t max\", ansur_df[feature].max())\n",
    "    print(\"\\t average\", ansur_df[feature].mean())\n",
    "\n",
    "### Normalize all data\n",
    "scaler = StandardScaler()\n",
    "df_scaled = scaler.fit_transform(ansur_df)\n",
    "\n",
    "## 2. Print Covariances\n",
    "df_scaled.cov()\n",
    "\n",
    "## 3. Plot features most correlated to age, ear length and head circumference\n",
    "#Age Length most correlated variables\n",
    "top_age = df_scaled.cov()[\"age\"].sort_values(ascending=False)\n",
    "plt.scatter(ansur_df[\"ear.length\"], ansur_df[\"age\"])\n",
    "plt.xlabel(\"Ear Length\")\n",
    "plt.ylabel(\"Age\")\n",
    "plt.show()\n",
    "\n",
    "plt.scatter(ansur_df[\"weight\"], ansur_df[\"age\"])\n",
    "plt.xlabel(\"weight\")\n",
    "plt.ylabel(\"Age\")\n",
    "plt.show()\n",
    "\n",
    "#Ear Length most correlated variables\n",
    "top_ear_length = df_scaled.cov()[\"ear.length\"].sort_values(ascending=False)\n",
    "\n",
    "plt.scatter(ansur_df[\"weight\"], ansur_df[\"ear.length\"])\n",
    "plt.xlabel(\"Weight\")\n",
    "plt.ylabel(\"Ear Length\")\n",
    "plt.show()\n",
    "\n",
    "plt.scatter(ansur_df[\"hand.breadth\"], ansur_df[\"ear.length\"])\n",
    "plt.xlabel(\"Hand Breadth\")\n",
    "plt.ylabel(\"Ear Langth\")\n",
    "plt.show()\n",
    "\n",
    "#Head Circumfernce Length most correlated variables\n",
    "top_head_cirumference = df_scaled.cov()[\"head.circumference\"].sort_values(ascending=False)\n",
    "plt.scatter(ansur_df[\"head.height\"], ansur_df[\"head.circumference\"])\n",
    "plt.xlabel(\"Head Height\")\n",
    "plt.ylabel(\"Head Circumference\")\n",
    "plt.show()\n",
    "\n",
    "plt.scatter(ansur_df[\"weight\"], ansur_df[\"head.circumference\"])\n",
    "plt.xlabel(\"Weight\")\n",
    "plt.ylabel(\"Head Circumference\")\n",
    "plt.show()"
   ]
  },
  {
   "cell_type": "code",
   "execution_count": null,
   "metadata": {},
   "outputs": [],
   "source": [
    "top_head_cirumference = df_scaled.cov()[\"head.circumference\"].sort_values(ascending=False)\n",
    "top_head_cirumference"
   ]
  },
  {
   "cell_type": "markdown",
   "metadata": {},
   "source": [
    "### Interpretation\n",
    "\n",
    "<span style=\"color:hotpink;\">\n",
    "Does anything stand out about these graphs? Or the correlations?<br>\n",
    "Are correlations symmetric? Does the feature most correlated to ear length also have ear length as its most correlated pair?\n",
    "</span>"
   ]
  },
  {
   "cell_type": "markdown",
   "metadata": {
    "tags": [
     "work_cell"
    ]
   },
   "source": [
    "<span style=\"color:lightgreen;\">\n",
    "- The most thing that stood out was the Head Circumference and it's correlation with positiv relationship with Weigth and Head Height.\n",
    "<br>\n",
    "- An interessting thing was in the Age and Ear Length graph. Ears length appears to vary very much through age. \n",
    "<br>\n",
    "- The correlations seems to be symetric between the variables.\n",
    "<br>\n",
    "- According to the numbers it's not showing the same pairs as the most correlated\n",
    "</span>"
   ]
  },
  {
   "cell_type": "markdown",
   "metadata": {},
   "source": [
    "### Regression\n",
    "\n",
    "Now, we want to create a regression model to predict `head.circumference` from the data.\n",
    "\n",
    "From our [Week 06](https://github.com/PSAM-5020-2025S-A/WK06) notebook, we can create a regression model by following these steps:\n",
    "\n",
    "1. Load dataset (done! 🎉)\n",
    "2. Encode label features as numbers (done! ⚡️)\n",
    "3. Normalize the data (done! 🍾)\n",
    "4. Separate the outcome variable and the input features\n",
    "5. Create a regression model using all features\n",
    "6. Run model on training data and measure error\n",
    "7. Plot predictions and interpret results\n",
    "8. Run model on test data, measure error, plot predictions, interpret results"
   ]
  },
  {
   "cell_type": "code",
   "execution_count": null,
   "metadata": {
    "tags": [
     "work_cell"
    ]
   },
   "outputs": [],
   "source": [
    "# Work on Regression Model here\n",
    "\n",
    "## Separate outcome variable and input features\n",
    "dependent_variable = df_scaled[\"head.circumference\"]\n",
    "features = df_scaled.drop(\"head.circumference\", axis=1)\n",
    "\n",
    "## Create a regression model\n",
    "model = LinearRegression()\n",
    "model.fit(features, dependent_variable)\n",
    "predicted_scaled = model.predict(features)\n",
    "predicted = scaler.inverse_transform(predicted_scaled)\n",
    "\n",
    "## Measure error on training data\n",
    "regression_error(ansur_df[\"head.circumference\"], predicted[\"head.circumference\"])\n",
    "\n",
    "## Plot predictions and interpret results\n",
    "original_value = ansur_df[\"head.circumference\"]\n",
    "predicted_value = predicted[\"head.circumference\"]\n",
    "\n",
    "plt.plot(sorted(original_value), marker='o', linestyle='', alpha=0.3)\n",
    "plt.plot(sorted(predicted_value), color='r', marker='o', markersize='3', linestyle='', alpha=0.1)\n",
    "plt.ylabel(\"Head Circumference\")\n",
    "plt.xlabel(\"Predictions\")\n",
    "plt.show()\n"
   ]
  },
  {
   "cell_type": "code",
   "execution_count": null,
   "metadata": {},
   "outputs": [],
   "source": [
    "## Load Test Data\n",
    "ANSUR_TEST_FILE = \"https://raw.githubusercontent.com/PSAM-5020-2025S-A/5020-utils/main/datasets/json/ansur-test.json\"\n",
    "\n",
    "ansur_test_data = object_from_json_url(ANSUR_TEST_FILE)\n",
    "ansur_test_df = pd.json_normalize(ansur_test_data)\n",
    "\n",
    "ansur_test_encoded_df = ansur_test_df.copy()\n",
    "\n",
    "g_vals = ansur_encoder.transform(ansur_test_df[[\"gender\"]].values)\n",
    "ansur_test_encoded_df[[\"gender\"]] = g_vals\n",
    "\n",
    "ansur_test_scaled_df = scaler.transform(ansur_test_encoded_df)\n",
    "\n"
   ]
  },
  {
   "cell_type": "code",
   "execution_count": null,
   "metadata": {
    "tags": [
     "work_cell"
    ]
   },
   "outputs": [],
   "source": [
    "## Run model on test data\n",
    "\n",
    "# Work on Regression Model here\n",
    "\n",
    "## Separate outcome variable and input features\n",
    "test_dependent_variable = ansur_test_scaled_df[\"head.circumference\"]\n",
    "test_features = ansur_test_scaled_df.drop(\"head.circumference\", axis=1)\n",
    "\n",
    "## Create a regression model\n",
    "test_model = LinearRegression()\n",
    "test_model.fit(test_features, test_dependent_variable)\n",
    "test_predicted_scaled = test_model.predict(test_features)\n",
    "text_predicted = scaler.inverse_transform(test_predicted_scaled)\n",
    "\n",
    "## Measure error on training data\n",
    "regression_error(ansur_df[\"head.circumference\"], predicted[\"head.circumference\"])\n",
    "\n",
    "## Plot predictions and interpret results\n",
    "\n",
    "test_original_value = ansur_df[\"head.circumference\"]\n",
    "test_predicted_value = predicted[\"head.circumference\"]\n",
    "\n",
    "plt.plot(sorted(test_original_value), marker='o', linestyle='', alpha=0.3)\n",
    "plt.plot(sorted(test_predicted_value), color='r', marker='o', markersize='3', linestyle='', alpha=0.1)\n",
    "plt.ylabel(\"Head Circumference\")\n",
    "plt.xlabel(\"Predictions\")\n",
    "plt.show()\n"
   ]
  },
  {
   "cell_type": "markdown",
   "metadata": {},
   "source": [
    "### Interpretation\n",
    "\n",
    "<span style=\"color:hotpink;\">\n",
    "How well does your model perform?<br>\n",
    "How could you improve it?<br>\n",
    "Are there ranges of circumferences that don't get predicted well?\n",
    "</span>"
   ]
  },
  {
   "cell_type": "markdown",
   "metadata": {
    "tags": [
     "work_cell"
    ]
   },
   "source": [
    "<span style=\"color:lightgreen;\">\n",
    "- The model does not seem to be very good. It has skwness on both sides. \n",
    "<br>\n",
    "- However, its middle values predictions is acceptable. \n",
    "<br>\n",
    "- We can apply PolynomiaFeatures object to create more features so we can improve the model. \n",
    "<br>\n",
    "- Yes in about the lower < 100 and highers > 4100\n",
    "</span>"
   ]
  },
  {
   "cell_type": "code",
   "execution_count": 146,
   "metadata": {},
   "outputs": [
    {
     "data": {
      "image/png": "[encoded data removed]",
      "text/plain": [
       "<Figure size 640x480 with 1 Axes>"
      ]
     },
     "metadata": {},
     "output_type": "display_data"
    }
   ],
   "source": [
    "# Applying PloynomiaFeatures \n",
    "from data_utils import PolynomialFeatures\n",
    "\n",
    "poly = PolynomialFeatures(degree=4, include_bias=False)\n",
    "\n",
    "app_dependent_variable = df_scaled[\"head.circumference\"]\n",
    "app_features = df_scaled.drop(\"head.circumference\", axis=1)\n",
    "features_poly = poly.fit_transform(app_features)\n",
    "\n",
    "\n",
    "## Create a regression model\n",
    "app_model = LinearRegression()\n",
    "app_model.fit(features_poly, app_dependent_variable)\n",
    "app_predicted_scaled = app_model.predict(features_poly)\n",
    "predicted = scaler.inverse_transform(app_predicted_scaled)\n",
    "\n",
    "## Measure error on training data\n",
    "regression_error(ansur_df[\"head.circumference\"], predicted[\"head.circumference\"])\n",
    "\n",
    "## Plot predictions and interpret results\n",
    "original_value = ansur_df[\"head.circumference\"]\n",
    "predicted_value = predicted[\"head.circumference\"]\n",
    "\n",
    "plt.plot(sorted(original_value), marker='o', linestyle='', alpha=0.3)\n",
    "plt.plot(sorted(predicted_value), color='r', marker='o', markersize='3', linestyle='', alpha=0.1)\n",
    "plt.ylabel(\"Head Circumference\")\n",
    "plt.xlabel(\"Predictions\")\n",
    "plt.show()\n"
   ]
  },
  {
   "cell_type": "markdown",
   "metadata": {},
   "source": [
    "Even with a higher degree seems that the values on both ends are hard to predict. \n",
    "I am not sure. Maybe I have done something wrong. Or there is just not a enough information to predict Head Circumference"
   ]
  },
  {
   "cell_type": "code",
   "execution_count": null,
   "metadata": {},
   "outputs": [],
   "source": []
  },
  {
   "cell_type": "code",
   "execution_count": null,
   "metadata": {},
   "outputs": [],
   "source": []
  }
 ],
 "metadata": {
  "colab": {
   "authorship_tag": "ABX9TyPxe2qYxIG7EblrvD1C4Pmv",
   "provenance": []
  },
  "kernelspec": {
   "display_name": "Python 3",
   "language": "python",
   "name": "python3"
  },
  "language_info": {
   "codemirror_mode": {
    "name": "ipython",
    "version": 3
   },
   "file_extension": ".py",
   "mimetype": "text/x-python",
   "name": "python",
   "nbconvert_exporter": "python",
   "pygments_lexer": "ipython3",
   "version": "3.10.16"
  }
 },
 "nbformat": 4,
 "nbformat_minor": 0
}
